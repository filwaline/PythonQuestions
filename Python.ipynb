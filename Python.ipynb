{
 "cells": [
  {
   "cell_type": "markdown",
   "metadata": {},
   "source": [
    "## 1. 回文串\n",
    "\n",
    "*知识点一览：字符串，切片，比较操作符，递归*\n",
    "\n",
    "给定一个字符串，判断它是不是回文字符串，即正反看都是一样的字符串。\n",
    "\n",
    "进阶：尝试写出它的递归版本。"
   ]
  },
  {
   "cell_type": "code",
   "execution_count": null,
   "metadata": {
    "collapsed": true
   },
   "outputs": [],
   "source": [
    "def isPalindrome(string):\n",
    "    return None"
   ]
  },
  {
   "cell_type": "markdown",
   "metadata": {},
   "source": [
    "---"
   ]
  },
  {
   "cell_type": "markdown",
   "metadata": {},
   "source": [
    "## 2. 寻找高频字符\n",
    "\n",
    "*知识点一览：字典*\n",
    "\n",
    "给定一英语句子，寻找出现频次最高的三个字母，忽略所有的特殊字符。"
   ]
  },
  {
   "cell_type": "code",
   "execution_count": null,
   "metadata": {
    "collapsed": true
   },
   "outputs": [],
   "source": [
    "def top_N_Chars(string,n):\n",
    "    return None"
   ]
  },
  {
   "cell_type": "markdown",
   "metadata": {},
   "source": [
    "---"
   ]
  },
  {
   "cell_type": "markdown",
   "metadata": {},
   "source": [
    "## 3. 不重复的数字\n",
    "\n",
    "*知识点一览：列表，位操作，二分查找*\n",
    "\n",
    "给定一无序数组，其中大多数数字都重复了两次，只要一个例外，请找出来没有重复两次的数字。"
   ]
  },
  {
   "cell_type": "code",
   "execution_count": null,
   "metadata": {
    "collapsed": true
   },
   "outputs": [],
   "source": [
    "def nonRepeatNumber(array):\n",
    "    return None"
   ]
  },
  {
   "cell_type": "markdown",
   "metadata": {},
   "source": [
    "---"
   ]
  },
  {
   "cell_type": "markdown",
   "metadata": {},
   "source": [
    "## 4. 装饰器\n",
    "\n",
    "*知识点一览：函数，装饰器*\n",
    "\n",
    "#### 4.1 计时器\n",
    "请编写一个能展示为任意函数计时的装饰器。"
   ]
  },
  {
   "cell_type": "code",
   "execution_count": null,
   "metadata": {
    "collapsed": true
   },
   "outputs": [],
   "source": [
    "import time\n",
    "\n",
    "def timer(func):\n",
    "    return None"
   ]
  },
  {
   "cell_type": "markdown",
   "metadata": {},
   "source": [
    "#### 4.2 缓存（选做）\n",
    "\n",
    "请编写一个能为递归函数提供缓存功能的装饰器。"
   ]
  },
  {
   "cell_type": "code",
   "execution_count": null,
   "metadata": {
    "collapsed": true
   },
   "outputs": [],
   "source": [
    "def cache(func):\n",
    "    return None"
   ]
  },
  {
   "cell_type": "markdown",
   "metadata": {},
   "source": [
    "---"
   ]
  },
  {
   "cell_type": "markdown",
   "metadata": {},
   "source": [
    "\n",
    "## 5. 八皇后问题\n",
    "\n",
    "*知识点一览：回溯，生成器，列表*\n",
    "\n",
    "八皇后问题是一个以国际象棋为背景的问题：如何能够在8×8的国际象棋棋盘上放置八个皇后，使得任何一个皇后都无法直接吃掉其他的皇后？为了达到此目的，任两个皇后都不能处于同一条横行、纵行或斜线上。\n",
    "请生成所有可能的八皇后解决方案。"
   ]
  },
  {
   "cell_type": "code",
   "execution_count": null,
   "metadata": {
    "collapsed": true
   },
   "outputs": [],
   "source": [
    "def eightQueen():\n",
    "    return None"
   ]
  },
  {
   "cell_type": "markdown",
   "metadata": {},
   "source": [
    "--- "
   ]
  },
  {
   "cell_type": "markdown",
   "metadata": {},
   "source": [
    "## 6. 快速排序\n",
    "\n",
    "*知识点一览：列表，函数，递归，变量交换*\n",
    "\n",
    "快速排序使用分治法（Divide and conquer）策略来把一个序列（list）分为两个子序列（sub-lists）。\n",
    "步骤为：\n",
    "1. 从数列中挑出一个元素，称为\"基准\"（pivot），\n",
    "2. 重新排序数列，所有比基准值小的元素摆放在基准前面，所有比基准值大的元素摆在基准后面（相同的数可以到任何一边）。在这个分区结束之后，该基准就处于数列的中间位置。这个称为分区（partition）操作。\n",
    "3. 递归地（recursively）把小于基准值元素的子数列和大于基准值元素的子数列排序。\n",
    "\n",
    "递归到最底部时，数列的大小是零或一，也就是已经排序好了。这个算法一定会结束，因为在每次的迭代（iteration）中，它至少会把一个元素摆到它最后的位置去。\n",
    "\n",
    "![Partition_example](Partition_example.png)\n",
    "[快速排序 wiki](https://zh.wikipedia.org/wiki/%E5%BF%AB%E9%80%9F%E6%8E%92%E5%BA%8F)"
   ]
  },
  {
   "cell_type": "code",
   "execution_count": null,
   "metadata": {
    "collapsed": true
   },
   "outputs": [],
   "source": [
    "# 不可以使用Python提供的排序函数 \n",
    "# 比如 sorted 或 List.sort\n",
    "def quickSort(array):\n",
    "    return None"
   ]
  },
  {
   "cell_type": "markdown",
   "metadata": {},
   "source": [
    "---\n",
    "\n",
    "## 7. 斐波那契数列\n",
    "\n",
    "*知识点一览： 打印，输入输出，文件操作*\n",
    "\n",
    "请实现计算斐波那契数列的函数，计算fib(16)，并且将它输出到名为fib.txt的文件中，每行一个数字。"
   ]
  },
  {
   "cell_type": "code",
   "execution_count": null,
   "metadata": {
    "collapsed": true
   },
   "outputs": [],
   "source": [
    "def fib(n):\n",
    "    return None"
   ]
  },
  {
   "cell_type": "markdown",
   "metadata": {},
   "source": [
    "---"
   ]
  }
 ],
 "metadata": {
  "kernelspec": {
   "display_name": "Python 3.6",
   "language": "python",
   "name": "root"
  },
  "language_info": {
   "codemirror_mode": {
    "name": "ipython",
    "version": 3
   },
   "file_extension": ".py",
   "mimetype": "text/x-python",
   "name": "python",
   "nbconvert_exporter": "python",
   "pygments_lexer": "ipython3",
   "version": "3.6.2"
  }
 },
 "nbformat": 4,
 "nbformat_minor": 2
}
